{
 "cells": [
  {
   "cell_type": "code",
   "execution_count": 1,
   "metadata": {},
   "outputs": [],
   "source": [
    "import torch\n",
    "import numpy as np\n",
    "import cv2\n",
    "import os\n",
    "import csv\n",
    "import matplotlib.pyplot as plt\n",
    "\n",
    "import multiprocessing as mp"
   ]
  },
  {
   "cell_type": "code",
   "execution_count": 2,
   "metadata": {},
   "outputs": [],
   "source": [
    "def GetAvgWidth(seqs):\n",
    "    \n",
    "    alpha = 46.5 / 64.0\n",
    "    beta = 58.0 / 64.0\n",
    "    \n",
    "    T = len(seqs)\n",
    "    H, W = seqs[0].size()\n",
    "    \n",
    "    avgWidth = torch.zeros(T)\n",
    "    \n",
    "    for t in range(T):\n",
    "        y = seqs[t].sum(dim=1).numpy()\n",
    "        y_top = (y!=0).argmax(axis=0)\n",
    "        y_btm = (y!=0).cumsum(axis=0).argmax(axis=0)\n",
    "        \n",
    "        if (y_top == y_btm):\n",
    "            continue\n",
    "            \n",
    "        low = (y_top + (y_btm - y_top)*alpha).round().astype(int)\n",
    "        high = (y_top + (y_btm - y_top)*beta).round().astype(int)\n",
    "        \n",
    "        cnt = 0\n",
    "        for i in range(low, high, 1):\n",
    "            for w in range(W):\n",
    "                if ( seqs[t][i][w] != 0 ):\n",
    "                    pre = w\n",
    "                    break\n",
    "                    \n",
    "            for w in range(W-1, 0, -1):\n",
    "                if ( seqs[t][i][w] != 0 ):\n",
    "                    avgWidth[t] = avgWidth[t] + w - pre\n",
    "                    cnt += 1\n",
    "        if (cnt != 0):\n",
    "            avgWidth[t] = avgWidth[t] / cnt\n",
    "        else:\n",
    "            avgWidth[t] = -1\n",
    "            \n",
    "    return avgWidth"
   ]
  },
  {
   "cell_type": "code",
   "execution_count": 3,
   "metadata": {},
   "outputs": [],
   "source": [
    "def GetKeyFrame(period):\n",
    "\n",
    "    N = period.size(0)\n",
    "    \n",
    "    keyFrame = []\n",
    "    delta = 7\n",
    "    cur = 0\n",
    "    while (cur < N):\n",
    "        for i in range(cur-delta, cur+delta, 1):\n",
    "            \n",
    "            if ((i < 0) or (i >= N) or (i==cur)):\n",
    "                continue\n",
    "                \n",
    "            if (period[i] < period[cur]):\n",
    "                continue\n",
    "            else:\n",
    "                break\n",
    "                \n",
    "        if (i+1) == cur+delta:\n",
    "            keyFrame.append(cur)\n",
    "        cur += 1\n",
    "    \n",
    "    return keyFrame"
   ]
  },
  {
   "cell_type": "code",
   "execution_count": 4,
   "metadata": {},
   "outputs": [],
   "source": [
    "def GetPeriod(seqs):\n",
    "    \n",
    "    period = GetAvgWidth(seqs)\n",
    "    \n",
    "    tmp = period[period > 0]\n",
    "    \n",
    "    period = (period - torch.min(tmp)) / (torch.max(tmp) - torch.min(tmp))\n",
    "    keyFrame = GetKeyFrame(period)\n",
    "    \n",
    "    return period, keyFrame"
   ]
  },
  {
   "cell_type": "code",
   "execution_count": 5,
   "metadata": {},
   "outputs": [],
   "source": [
    "def ParPeriod(seqs, size_window, num_channels, period):\n",
    "    \n",
    "    pei = torch.zeros(num_channels, 64, 64, dtype=torch.float32)\n",
    "    \n",
    "    for i in range(num_channels):\n",
    "        left = i / (num_channels + 1)\n",
    "        right = left + size_window / 2\n",
    "        left = left - size_window / 2\n",
    "        \n",
    "        idx = (period >= left) & (period <= right)\n",
    "        \n",
    "        tmp = torch.zeros(1, 64, 64, dtype=torch.float32)\n",
    "        for j in range(len(idx)):\n",
    "            if idx[j] == 1:\n",
    "                tmp += seqs[j].float()\n",
    "        pei[i] = tmp / torch.sum(idx)\n",
    "        #pei[i] = torch.sum(seqs[idx], dim=1) / torch.sum(idx)\n",
    "        \n",
    "    return pei"
   ]
  },
  {
   "cell_type": "code",
   "execution_count": 6,
   "metadata": {},
   "outputs": [],
   "source": [
    "def CropPedestrian(img, target_size):\n",
    "    \n",
    "    y = img.sum(axis=1)\n",
    "    y_top = (y!=0).argmax(axis=0)\n",
    "    y_btm = (y!=0).cumsum(axis=0).argmax(axis=0)\n",
    "    \n",
    "    height = y_btm - y_top\n",
    "    \n",
    "    asp_ratio = img.shape[1] / img.shape[0]\n",
    "    width = int(height * asp_ratio)\n",
    "    \n",
    "    sum_col = img.sum(axis=0).cumsum(axis=0)\n",
    "    x_thres = img.sum() / 2\n",
    "    x_center = -1\n",
    "    for i in range(len(sum_col)):\n",
    "        if sum_col[i] > x_thres:\n",
    "            x_center = i\n",
    "            break\n",
    "            \n",
    "    x_left = x_center - (width // 2)\n",
    "    x_right = x_center + (width // 2)\n",
    "    \n",
    "    if ( x_left < 0 ):\n",
    "        H,W = img.shape\n",
    "        tmp = np.zeros((H, W + abs(x_left)))\n",
    "        tmp[:, abs(x_left):] = img\n",
    "        tmp = tmp[y_top:y_btm, 0:x_right+x_left]\n",
    "    else:\n",
    "        tmp = img[y_top:y_btm, x_left:x_right]  \n",
    "    \n",
    "    cropped = cv2.resize(tmp, (target_size, target_size), interpolation=cv2.INTER_AREA)\n",
    "    cropped = torch.from_numpy(cropped)\n",
    "    \n",
    "    return cropped"
   ]
  },
  {
   "cell_type": "code",
   "execution_count": 7,
   "metadata": {},
   "outputs": [],
   "source": [
    "def BuildPEI(seqs, size_window, num_channels):\n",
    "    \n",
    "    seq_length = len(seqs)\n",
    "    \n",
    "    if seq_length == 0:\n",
    "        return torch.zeros(num_channels, 64, 64)\n",
    "    \n",
    "    for i in range(seq_length):\n",
    "        seqs[i] = CropPedestrian(seqs[i], 64)\n",
    "        \n",
    "    period, key_frame = GetPeriod(seqs)\n",
    "    \n",
    "    if len(key_frame) == 0:\n",
    "        return\n",
    "    start = key_frame[0]\n",
    "    end = key_frame[len(key_frame) - 1]\n",
    "    \n",
    "    tmp = seqs[start:end]\n",
    "    period = period[start:end]\n",
    "    \n",
    "    pei = ParPeriod(tmp, size_window, num_channels, period)\n",
    "    \n",
    "    return pei"
   ]
  },
  {
   "cell_type": "code",
   "execution_count": 8,
   "metadata": {},
   "outputs": [],
   "source": [
    "def zero_pad(num, digit=3):\n",
    "    n_str = str(num)\n",
    "    while len(n_str) < digit:\n",
    "        n_str = \"0\" + n_str\n",
    "    return n_str"
   ]
  },
  {
   "cell_type": "code",
   "execution_count": 9,
   "metadata": {},
   "outputs": [],
   "source": [
    "with open('./data/OU_ISIR/ID_list.csv', 'r') as ID_list:\n",
    "    lines = ID_list.readlines()\n",
    "    \n",
    "cooked = csv.reader(lines)\n",
    "train_IDs = []\n",
    "test_IDs = []\n",
    "for record in cooked:\n",
    "    if record[0] == 'Training subject ID' or record[0] == '':\n",
    "        continue\n",
    "    train_IDs.append(int(record[0]))\n",
    "    test_IDs.append(int(record[1]))"
   ]
  },
  {
   "cell_type": "code",
   "execution_count": 13,
   "metadata": {},
   "outputs": [],
   "source": [
    "root_path = './data/OU_ISIR/raw/'\n",
    "\n",
    "os.makedirs( root_path.replace('raw', 'npy'), exist_ok=True)\n",
    "\n",
    "pool = mp.Pool(processes=6)\n",
    "\n",
    "for view in os.listdir(root_path):\n",
    "    \n",
    "    view_path = os.path.join(root_path, view)\n",
    "    \n",
    "    for idx in range(1000):\n",
    "        label_path = os.path.join(view_path, zero_pad(train_IDs[idx], 5))\n",
    "        \n",
    "        if not os.path.exists(label_path):\n",
    "            continue\n",
    "            \n",
    "        if os.path.exists('./data/OU_ISIR/npy/{}/{}.npy'.format(view[-6:], zero_pad(train_IDs[idx], 5))):\n",
    "            continue\n",
    "        \n",
    "        seqs = []        \n",
    "        for file in os.listdir(label_path):\n",
    "            \n",
    "            img = cv2.imread( os.path.join(label_path, file))\n",
    "            if img is None:\n",
    "                continue\n",
    "            seqs.append(img[:,:,0])\n",
    "        \n",
    "        pei = BuildPEI(seqs, 0.4, 5)\n",
    "        \n",
    "        if  pei is None or np.isnan(np.sum(pei.numpy())):\n",
    "            continue\n",
    "        \n",
    "        os.makedirs('./data/OU_ISIR/npy/{}'.format(view[-6:]), exist_ok=True)\n",
    "        np.save('./data/OU_ISIR/npy/{}/{}'.format(view[-6:], zero_pad(train_IDs[idx], 5)), pei)\n",
    "        \n",
    "pool.close()\n",
    "pool.join()"
   ]
  },
  {
   "cell_type": "code",
   "execution_count": 54,
   "metadata": {},
   "outputs": [
    {
     "data": {
      "image/png": "[encoded data removed]",
      "text/plain": [
       "<Figure size 432x288 with 1 Axes>"
      ]
     },
     "metadata": {
      "needs_background": "light"
     },
     "output_type": "display_data"
    },
    {
     "data": {
      "image/png": "[encoded data removed]",
      "text/plain": [
       "<Figure size 432x288 with 1 Axes>"
      ]
     },
     "metadata": {
      "needs_background": "light"
     },
     "output_type": "display_data"
    },
    {
     "data": {
      "image/png": "[encoded data removed]",
      "text/plain": [
       "<Figure size 432x288 with 1 Axes>"
      ]
     },
     "metadata": {
      "needs_background": "light"
     },
     "output_type": "display_data"
    },
    {
     "data": {
      "image/png": "[encoded data removed]",
      "text/plain": [
       "<Figure size 432x288 with 1 Axes>"
      ]
     },
     "metadata": {
      "needs_background": "light"
     },
     "output_type": "display_data"
    },
    {
     "data": {
      "image/png": "[encoded data removed]",
      "text/plain": [
       "<Figure size 432x288 with 1 Axes>"
      ]
     },
     "metadata": {
      "needs_background": "light"
     },
     "output_type": "display_data"
    }
   ],
   "source": [
    "pei = np.load('./data/OU_ISIR/npy/090-00/00001.npy')\n",
    "\n",
    "for c in range(5):\n",
    "    plt.imshow(pei[c], cmap='gray')\n",
    "    plt.show()"
   ]
  }
 ],
 "metadata": {
  "kernelspec": {
   "display_name": "PyTorch",
   "language": "python",
   "name": "pytorch"
  },
  "language_info": {
   "codemirror_mode": {
    "name": "ipython",
    "version": 3
   },
   "file_extension": ".py",
   "mimetype": "text/x-python",
   "name": "python",
   "nbconvert_exporter": "python",
   "pygments_lexer": "ipython3",
   "version": "3.7.1"
  }
 },
 "nbformat": 4,
 "nbformat_minor": 2
}
